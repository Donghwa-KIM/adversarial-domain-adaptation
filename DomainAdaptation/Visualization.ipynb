{
 "cells": [
  {
   "cell_type": "code",
   "execution_count": 1,
   "metadata": {},
   "outputs": [],
   "source": [
    "import tensorflow as tf\n",
    "import os\n",
    "from tensorflow.contrib.tensorboard.plugins import projector\n",
    "import numpy as np\n",
    "import csv\n",
    "import math\n",
    "from PIL import Image\n"
   ]
  },
  {
   "cell_type": "code",
   "execution_count": 2,
   "metadata": {},
   "outputs": [],
   "source": [
    "LOG_DIR = os.path.join(os.getcwd(),'TFboard/projection')\n",
    "\n",
    "if not os.path.exists(LOG_DIR):\n",
    "    os.makedirs(LOG_DIR) # makedirs can make it with subdir"
   ]
  },
  {
   "cell_type": "code",
   "execution_count": 3,
   "metadata": {},
   "outputs": [],
   "source": [
    "imagesPath = \"./results/SourceTargetImages.npy\"\n",
    "embedVectorPath = \"./results/SourceTargetEmbed.npy\"\n",
    "domainsPath = \"./results/SourceTargetDomain.npy\"\n",
    "labelsPath = \"./results/SourceTargetLabels.npy\""
   ]
  },
  {
   "cell_type": "code",
   "execution_count": 4,
   "metadata": {},
   "outputs": [],
   "source": [
    "images = np.load(imagesPath)\n",
    "# N examples, dimension\n",
    "embedVector = np.load(embedVectorPath)\n",
    "Domains = np.load(domainsPath)\n",
    "Labels = np.load(labelsPath)"
   ]
  },
  {
   "cell_type": "markdown",
   "metadata": {},
   "source": [
    "---"
   ]
  },
  {
   "cell_type": "markdown",
   "metadata": {},
   "source": [
    "- label를 시각화하기 위한 meta파일을 생성"
   ]
  },
  {
   "cell_type": "code",
   "execution_count": 5,
   "metadata": {},
   "outputs": [],
   "source": [
    "temp = []\n",
    "for domain, label in zip(Domains, Labels):\n",
    "    if domain[0] == 1:\n",
    "        temp.append(['Source', np.argmax(label)] )\n",
    "    else:\n",
    "        temp.append(['Target', np.argmax(label)] )    "
   ]
  },
  {
   "cell_type": "code",
   "execution_count": 6,
   "metadata": {},
   "outputs": [
    {
     "name": "stdout",
     "output_type": "stream",
     "text": [
      "[['Source', 7], ['Source', 2], ['Source', 1], ['Source', 0], ['Source', 4]]\n",
      "[['Target', 7], ['Target', 2], ['Target', 1], ['Target', 0], ['Target', 4]]\n"
     ]
    }
   ],
   "source": [
    "print(temp[0:5])\n",
    "print(temp[500:505])"
   ]
  },
  {
   "cell_type": "code",
   "execution_count": 7,
   "metadata": {},
   "outputs": [],
   "source": [
    "## make metafiles\n",
    "with open(os.path.join(LOG_DIR,'metadata.tsv'), 'wt', encoding='utf-8') as out_file:\n",
    "    tsv_writer = csv.writer(out_file, delimiter='\\t')\n",
    "    tsv_writer.writerow(['domain', 'label'])\n",
    "    for ix in range(len(temp)):\n",
    "        tsv_writer.writerow(temp[ix])"
   ]
  },
  {
   "cell_type": "markdown",
   "metadata": {},
   "source": [
    "---"
   ]
  },
  {
   "cell_type": "markdown",
   "metadata": {},
   "source": [
    "- image를 시각화하기 위한 sprite이미지 생성"
   ]
  },
  {
   "cell_type": "code",
   "execution_count": 8,
   "metadata": {},
   "outputs": [
    {
     "data": {
      "text/plain": [
       "array([28, 28])"
      ]
     },
     "execution_count": 8,
     "metadata": {},
     "output_type": "execute_result"
    }
   ],
   "source": [
    "imageShape = np.array(images.shape[1:3])\n",
    "imageShape"
   ]
  },
  {
   "cell_type": "code",
   "execution_count": 9,
   "metadata": {},
   "outputs": [],
   "source": [
    "# the bigger\n",
    "zoom = 6\n",
    "visualSize = 60"
   ]
  },
  {
   "cell_type": "markdown",
   "metadata": {},
   "source": [
    "- 이미지를 한번 확장 시키고 다시 줄임, 더 명확한 형태를 뽑아낼 수 있음"
   ]
  },
  {
   "cell_type": "code",
   "execution_count": 10,
   "metadata": {},
   "outputs": [],
   "source": [
    "# resizing\n",
    "IMAGE=[]\n",
    "for i in range(len(images)):#i=1\n",
    "    imageExpansion = np.kron(images[i:i+1,], np.ones((1, zoom, zoom, 1))) # float type,  (1, 168, 168, 3)\n",
    "    img = np.squeeze(imageExpansion, axis=[1,2,3]) # (168, 168, 3)\n",
    "    if i < 500: #RGB\n",
    "        img = Image.fromarray(img.astype('uint8'))\n",
    "    else: # grey scale\n",
    "        img = Image.fromarray(img.astype('uint8')*255)\n",
    "\n",
    "    img = img.resize((visualSize,visualSize), Image.ANTIALIAS) # shrinking\n",
    "    img = np.array(img) # as array\n",
    "    IMAGE.append(img)"
   ]
  },
  {
   "cell_type": "code",
   "execution_count": 11,
   "metadata": {},
   "outputs": [],
   "source": [
    "IMAGE = np.array(IMAGE)"
   ]
  },
  {
   "cell_type": "code",
   "execution_count": 12,
   "metadata": {},
   "outputs": [],
   "source": [
    "def images_to_sprite(data, N):\n",
    "    \"\"\"Creates the sprite image along with any necessary padding\n",
    "    Args:\n",
    "      data: NxHxW[x3] tensor containing the images.\n",
    "    Returns:\n",
    "      data: Properly shaped HxWx3 image with any necessary padding.\n",
    "    \"\"\"\n",
    "\n",
    "    # if not exist channel\n",
    "    if len(data.shape) == 3:\n",
    "        # duplicated as 3 channel\n",
    "        data = np.tile(data[..., np.newaxis], (1, 1, 1, 3))\n",
    "\n",
    "    # normalize\n",
    "    data = data.astype(np.float32)\n",
    "\n",
    "    # reshape as (n,-1)\n",
    "    _min = data.min(axis=(0,1,2),keepdims=True)\n",
    "    _max = data.max(axis=(0,1,2), keepdims=True)\n",
    "\n",
    "    if np.max(_max) !=0:\n",
    "        data = (data- _min) / (_max-_min)\n",
    "\n",
    "    # columns of grid = sqrt(N) = n\n",
    "    # 사각형틀에 이미지를 채우기 위해 아래와 같이 작성\n",
    "    n = math.ceil(np.sqrt(N))\n",
    "    \n",
    "    # ((N), (width+more), (height), (channel))\n",
    "    padding = ((0, n ** 2 - data.shape[0]), (0, 0), (0, 0)) + ((0, 0),) * (data.ndim - 3)\n",
    "    data = np.pad(data, padding, mode='constant',\n",
    "                  constant_values=0)\n",
    "\n",
    "    # (n, n, width, height, channel).transpose((0, 2, 1, 3, 4))\n",
    "    data = data.reshape((n, n) + data.shape[1:]).transpose((0, 2, 1, 3) + tuple(range(4, data.ndim + 1)))\n",
    "    \n",
    "    # (1920, 1920, 3)concat된 정방형 이미지를 생성\n",
    "    data = data.reshape((n * data.shape[1], n * data.shape[3]) + data.shape[4:])\n",
    "    # norm -> actual pixels\n",
    "    data = (data * 255).astype(np.uint8)\n",
    "    return data\n"
   ]
  },
  {
   "cell_type": "markdown",
   "metadata": {},
   "source": [
    "- sprite 이미지 저장"
   ]
  },
  {
   "cell_type": "code",
   "execution_count": 13,
   "metadata": {},
   "outputs": [],
   "source": [
    "sprite = images_to_sprite(IMAGE,len(IMAGE))\n",
    "IMAGE = Image.fromarray(sprite, mode='RGB')\n",
    "IMAGE.save(os.path.join(LOG_DIR, 'sprite.png'))"
   ]
  },
  {
   "cell_type": "markdown",
   "metadata": {},
   "source": [
    "---"
   ]
  },
  {
   "cell_type": "code",
   "execution_count": 14,
   "metadata": {},
   "outputs": [],
   "source": [
    "metadata_file = os.path.join(LOG_DIR, 'metadata.tsv')\n",
    "sprite_image_path = os.path.join(LOG_DIR, \"sprite.png\")"
   ]
  },
  {
   "cell_type": "code",
   "execution_count": 15,
   "metadata": {},
   "outputs": [],
   "source": [
    "## TensorFlow Variable from data\n",
    "embeddingVector = tf.Variable(embedVector, name='DA_features')"
   ]
  },
  {
   "cell_type": "code",
   "execution_count": 16,
   "metadata": {},
   "outputs": [],
   "source": [
    "## Running TensorFlow Session\n",
    "with tf.Session() as sess:\n",
    "    saver = tf.train.Saver([embeddingVector])\n",
    "    sess.run(embeddingVector.initializer)\n",
    "\n",
    "    # './project-tensorboard/tf_data.ckpt'\n",
    "    saver.save(sess, LOG_DIR+'tf_data.ckpt')\n",
    "\n",
    "\n",
    "    # adding into projector\n",
    "    config = projector.ProjectorConfig()\n",
    "    embedding = config.embeddings.add()\n",
    "    embedding.tensor_name = embeddingVector.name\n",
    "    # Link this tensor to its metadata(Labels) file\n",
    "    embedding.metadata_path = metadata_file\n",
    "    embedding.sprite.image_path = sprite_image_path\n",
    "    embedding.sprite.single_image_dim.extend([int(visualSize), int(visualSize)])\n",
    "    # Saves a config file that TensorBoard will read during startup.\n",
    "    projector.visualize_embeddings(tf.summary.FileWriter(LOG_DIR), config)"
   ]
  },
  {
   "cell_type": "code",
   "execution_count": null,
   "metadata": {},
   "outputs": [
    {
     "name": "stdout",
     "output_type": "stream",
     "text": [
      "TensorBoard 1.12.2 at http://163.152.185.244:6006 (Press CTRL+C to quit)\n"
     ]
    }
   ],
   "source": [
    "! tensorboard --logdir=\"./TFboard/projection/\" --host 163.152.185.244"
   ]
  }
 ],
 "metadata": {
  "kernelspec": {
   "display_name": "LAB",
   "language": "python",
   "name": "lab"
  },
  "language_info": {
   "codemirror_mode": {
    "name": "ipython",
    "version": 3
   },
   "file_extension": ".py",
   "mimetype": "text/x-python",
   "name": "python",
   "nbconvert_exporter": "python",
   "pygments_lexer": "ipython3",
   "version": "3.5.2"
  }
 },
 "nbformat": 4,
 "nbformat_minor": 2
}
