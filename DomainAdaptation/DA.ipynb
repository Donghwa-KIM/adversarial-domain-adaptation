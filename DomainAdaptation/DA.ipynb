{
 "cells": [
  {
   "cell_type": "code",
   "execution_count": 50,
   "metadata": {},
   "outputs": [],
   "source": [
    "import tensorflow as tf\n",
    "import numpy as np\n",
    "import random\n",
    "import os\n",
    "from tensorflow.examples.tutorials.mnist import input_data\n",
    "import matplotlib.pyplot as plt\n",
    "from mpl_toolkits.axes_grid1 import ImageGrid\n",
    "from tensorflow.python.framework import ops\n",
    "import pickle"
   ]
  },
  {
   "cell_type": "code",
   "execution_count": 2,
   "metadata": {},
   "outputs": [
    {
     "name": "stdout",
     "output_type": "stream",
     "text": [
      "WARNING:tensorflow:From <ipython-input-2-71e12f4bac70>:1: read_data_sets (from tensorflow.contrib.learn.python.learn.datasets.mnist) is deprecated and will be removed in a future version.\n",
      "Instructions for updating:\n",
      "Please use alternatives such as official/mnist/dataset.py from tensorflow/models.\n",
      "WARNING:tensorflow:From /home/donghwa/lab/lib/python3.5/site-packages/tensorflow/contrib/learn/python/learn/datasets/mnist.py:260: maybe_download (from tensorflow.contrib.learn.python.learn.datasets.base) is deprecated and will be removed in a future version.\n",
      "Instructions for updating:\n",
      "Please write your own downloading logic.\n",
      "WARNING:tensorflow:From /home/donghwa/lab/lib/python3.5/site-packages/tensorflow/contrib/learn/python/learn/datasets/mnist.py:262: extract_images (from tensorflow.contrib.learn.python.learn.datasets.mnist) is deprecated and will be removed in a future version.\n",
      "Instructions for updating:\n",
      "Please use tf.data to implement this functionality.\n",
      "Extracting MNIST_data/train-images-idx3-ubyte.gz\n",
      "WARNING:tensorflow:From /home/donghwa/lab/lib/python3.5/site-packages/tensorflow/contrib/learn/python/learn/datasets/mnist.py:267: extract_labels (from tensorflow.contrib.learn.python.learn.datasets.mnist) is deprecated and will be removed in a future version.\n",
      "Instructions for updating:\n",
      "Please use tf.data to implement this functionality.\n",
      "Extracting MNIST_data/train-labels-idx1-ubyte.gz\n",
      "WARNING:tensorflow:From /home/donghwa/lab/lib/python3.5/site-packages/tensorflow/contrib/learn/python/learn/datasets/mnist.py:110: dense_to_one_hot (from tensorflow.contrib.learn.python.learn.datasets.mnist) is deprecated and will be removed in a future version.\n",
      "Instructions for updating:\n",
      "Please use tf.one_hot on tensors.\n",
      "Extracting MNIST_data/t10k-images-idx3-ubyte.gz\n",
      "Extracting MNIST_data/t10k-labels-idx1-ubyte.gz\n",
      "WARNING:tensorflow:From /home/donghwa/lab/lib/python3.5/site-packages/tensorflow/contrib/learn/python/learn/datasets/mnist.py:290: DataSet.__init__ (from tensorflow.contrib.learn.python.learn.datasets.mnist) is deprecated and will be removed in a future version.\n",
      "Instructions for updating:\n",
      "Please use alternatives such as official/mnist/dataset.py from tensorflow/models.\n"
     ]
    }
   ],
   "source": [
    "mnist = input_data.read_data_sets('MNIST_data', one_hot=True)"
   ]
  },
  {
   "cell_type": "markdown",
   "metadata": {},
   "source": [
    "# load mnist"
   ]
  },
  {
   "cell_type": "code",
   "execution_count": 3,
   "metadata": {},
   "outputs": [
    {
     "data": {
      "text/plain": [
       "(55000, 784)"
      ]
     },
     "execution_count": 3,
     "metadata": {},
     "output_type": "execute_result"
    }
   ],
   "source": [
    "mnist.train.images.shape"
   ]
  },
  {
   "cell_type": "code",
   "execution_count": 4,
   "metadata": {},
   "outputs": [],
   "source": [
    "# Process MNIST (55000, 784)\n",
    "mnist_train = (mnist.train.images > 0).reshape(55000, 28, 28, 1).astype(np.uint8) * 255\n",
    "mnist_train = np.concatenate([mnist_train, mnist_train, mnist_train], 3)\n",
    "\n",
    "mnist_test = (mnist.test.images > 0).reshape(10000, 28, 28, 1).astype(np.uint8) * 255\n",
    "mnist_test = np.concatenate([mnist_test, mnist_test, mnist_test], 3)"
   ]
  },
  {
   "cell_type": "code",
   "execution_count": 5,
   "metadata": {},
   "outputs": [
    {
     "data": {
      "text/plain": [
       "(55000, 28, 28, 3)"
      ]
     },
     "execution_count": 5,
     "metadata": {},
     "output_type": "execute_result"
    }
   ],
   "source": [
    "mnist_train.shape"
   ]
  },
  {
   "cell_type": "markdown",
   "metadata": {},
   "source": [
    "# load MNIST-M"
   ]
  },
  {
   "cell_type": "markdown",
   "metadata": {},
   "source": [
    "[mnistm_data.pkl download](https://drive.google.com/open?id=1Ik_PODRpQUPAY3tR-Wp-jFuBz-r0JG3B)"
   ]
  },
  {
   "cell_type": "code",
   "execution_count": 6,
   "metadata": {},
   "outputs": [],
   "source": [
    "# Load MNIST-M\n",
    "mnistm = pickle.load(open('mnistm_data.pkl', 'rb'))\n",
    "mnistm_train = mnistm['train']\n",
    "mnistm_test = mnistm['test']\n",
    "mnistm_valid = mnistm['valid']"
   ]
  },
  {
   "cell_type": "markdown",
   "metadata": {},
   "source": [
    "- mean pixel"
   ]
  },
  {
   "cell_type": "code",
   "execution_count": 7,
   "metadata": {},
   "outputs": [
    {
     "data": {
      "text/plain": [
       "(3,)"
      ]
     },
     "execution_count": 7,
     "metadata": {},
     "output_type": "execute_result"
    }
   ],
   "source": [
    "# average of each RGB\n",
    "pixel_mean = np.vstack([mnist_train, mnistm_train]).mean((0, 1, 2))\n",
    "pixel_mean.shape"
   ]
  },
  {
   "cell_type": "code",
   "execution_count": 8,
   "metadata": {},
   "outputs": [],
   "source": [
    "# Create a mixed dataset for TSNE visualization\n",
    "num_test = 500\n",
    "combined_test_imgs = np.vstack([mnist_test[:num_test], mnistm_test[:num_test]])\n",
    "combined_test_labels = np.vstack([mnist.test.labels[:num_test], mnist.test.labels[:num_test]])\n",
    "combined_test_domain = np.vstack([np.tile([1., 0.], [num_test, 1]),\n",
    "        np.tile([0., 1.], [num_test, 1])])"
   ]
  },
  {
   "cell_type": "code",
   "execution_count": 9,
   "metadata": {},
   "outputs": [],
   "source": [
    "def imshow_grid(images, shape=[2, 8]):\n",
    "    \"\"\"Plot images in a grid of a given shape.\"\"\"\n",
    "    fig = plt.figure(1)\n",
    "    grid = ImageGrid(fig, 111, nrows_ncols=shape, axes_pad=0.05)\n",
    "\n",
    "    size = shape[0] * shape[1]\n",
    "    for i in range(size):\n",
    "        grid[i].axis('off')\n",
    "        grid[i].imshow(images[i])  # The AxesGrid object work as a list of axes.\n",
    "\n",
    "    plt.show()"
   ]
  },
  {
   "cell_type": "code",
   "execution_count": 10,
   "metadata": {},
   "outputs": [
    {
     "data": {
      "image/png": "[encoded data removed]",
      "text/plain": [
       "<matplotlib.figure.Figure at 0x7f0c25025588>"
      ]
     },
     "metadata": {},
     "output_type": "display_data"
    }
   ],
   "source": [
    "imshow_grid(mnist_train)"
   ]
  },
  {
   "cell_type": "code",
   "execution_count": 11,
   "metadata": {},
   "outputs": [
    {
     "data": {
      "image/png": "[encoded data removed]",
      "text/plain": [
       "<matplotlib.figure.Figure at 0x7f0c25025198>"
      ]
     },
     "metadata": {},
     "output_type": "display_data"
    }
   ],
   "source": [
    "imshow_grid(mnistm_train)"
   ]
  },
  {
   "cell_type": "markdown",
   "metadata": {},
   "source": [
    "- Placeholders 정의"
   ]
  },
  {
   "cell_type": "code",
   "execution_count": 12,
   "metadata": {},
   "outputs": [],
   "source": [
    "batch_size = 64\n",
    "X = tf.placeholder(tf.uint8, [None, 28, 28, 3])\n",
    "y = tf.placeholder(tf.float32, [None, 10])\n",
    "domainID = tf.placeholder(tf.float32, [None, 2])\n",
    "lb = tf.placeholder(tf.float32, []) # lambda\n",
    "lr = tf.placeholder(tf.float32, []) # learning rate\n",
    "is_training = tf.placeholder(tf.bool, [])"
   ]
  },
  {
   "cell_type": "markdown",
   "metadata": {},
   "source": [
    "- Input normalize"
   ]
  },
  {
   "cell_type": "code",
   "execution_count": 13,
   "metadata": {},
   "outputs": [
    {
     "data": {
      "text/plain": [
       "<tf.Tensor 'truediv:0' shape=(?, 28, 28, 3) dtype=float32>"
      ]
     },
     "execution_count": 13,
     "metadata": {},
     "output_type": "execute_result"
    }
   ],
   "source": [
    "X_input = (tf.cast(X, tf.float32) - pixel_mean) / 255.\n",
    "X_input"
   ]
  },
  {
   "cell_type": "markdown",
   "metadata": {},
   "source": [
    "---\n",
    "\n",
    "# featureExtractor"
   ]
  },
  {
   "cell_type": "markdown",
   "metadata": {},
   "source": [
    "- Conv block 정의"
   ]
  },
  {
   "cell_type": "code",
   "execution_count": 14,
   "metadata": {},
   "outputs": [],
   "source": [
    "def conv_layer(inputs,\n",
    "               name,\n",
    "               kernelSize,\n",
    "               inChannel,\n",
    "               outChannel,\n",
    "               stride = 1):        \n",
    "    with tf.variable_scope(name) as name:\n",
    "        convWeights = tf.get_variable(\n",
    "                \"W\",\n",
    "                shape= [kernelSize, kernelSize, inChannel, outChannel], \n",
    "                initializer=tf.initializers.truncated_normal(stddev=0.1)\n",
    "                )\n",
    "\n",
    "        convBiases = tf.get_variable(\n",
    "                \"b\",\n",
    "                shape=[outChannel],\n",
    "                initializer=tf.constant_initializer(0.1)\n",
    "                )\n",
    "\n",
    "        conv = tf.nn.conv2d(inputs, convWeights, [1,stride,stride,1], padding='SAME')\n",
    "        convBias = tf.nn.bias_add(conv, convBiases)\n",
    "\n",
    "        relu = tf.nn.relu(convBias)\n",
    "\n",
    "    return relu  "
   ]
  },
  {
   "cell_type": "code",
   "execution_count": 15,
   "metadata": {},
   "outputs": [],
   "source": [
    "with tf.variable_scope('feature_extractor') as scope:\n",
    "    \n",
    "    # Conv1: n x 28(=(28-5+4)/1+1) x 28 x 32 ; \n",
    "    conv1 = conv_layer(X_input, kernelSize=5, name= \"conv1\", inChannel=3, outChannel=32) \n",
    "\n",
    "    # Pool1: n x 14(=(28-2)/2+1) x 14 x 32\n",
    "    pool1 = tf.nn.max_pool(conv1, ksize=[1, 2, 2, 1], strides=[1, 2, 2, 1], padding='SAME', name='pool1')\n",
    "\n",
    "    # Conv2: n x 14(=(14-5+4)/1+1) x 14 x 48\n",
    "    conv2 = conv_layer(pool1, kernelSize=5, name= \"conv2\", inChannel=32, outChannel=48)\n",
    "\n",
    "    # Pool2: n x 7(=(14-2)/2+1) x 7 x 48\n",
    "    pool2 = tf.nn.max_pool(conv2, ksize=[1, 2, 2, 1], strides=[1, 2, 2, 1], padding='SAME', name='pool2')\n",
    "    \n",
    "    # domain-invariant feature\n",
    "    feature = tf.reshape(pool2, [-1, np.prod(pool2.shape.as_list()[1:])])"
   ]
  },
  {
   "cell_type": "code",
   "execution_count": 16,
   "metadata": {},
   "outputs": [
    {
     "data": {
      "text/plain": [
       "<tf.Tensor 'feature_extractor/Reshape:0' shape=(?, 2352) dtype=float32>"
      ]
     },
     "execution_count": 16,
     "metadata": {},
     "output_type": "execute_result"
    }
   ],
   "source": [
    "feature"
   ]
  },
  {
   "cell_type": "markdown",
   "metadata": {},
   "source": [
    "---"
   ]
  },
  {
   "cell_type": "markdown",
   "metadata": {},
   "source": [
    "# labelPredictor"
   ]
  },
  {
   "cell_type": "markdown",
   "metadata": {},
   "source": [
    "- Train할때는 source/target domain을 구분하여 학습하고, Test할때는 데이터를 전부 학습해야한다.\n",
    "- tf.cond를 사용하여 ifelse조건에 따라 함수1(for train) or 함수2(for test)를 반환한다.\n",
    "- 그 함수의 형태로 바꿔주는 간단한 방법은 lambda를 사용하는 것이다."
   ]
  },
  {
   "cell_type": "markdown",
   "metadata": {},
   "source": [
    "- when training\n",
    "    - tf.slice를 사용하여 soure데이터와 target데이터를 나눠준다.\n",
    "    - [0, 0]: location\n",
    "    - [batch_size // 2, -1]: location으로부터 batch_size // 2 행만큼, -1(2352) 열만큼 데이터를 잘라냄\n",
    "    - 결국 주어진 데이터를 행으로 반으로 자르는 역할"
   ]
  },
  {
   "cell_type": "code",
   "execution_count": 17,
   "metadata": {},
   "outputs": [],
   "source": [
    "# when training\n",
    "source_features = lambda: tf.slice(feature, [0, 0], [batch_size // 2, -1])\n",
    "source_labels = lambda: tf.slice(y, [0, 0], [batch_size // 2, -1])\n",
    "\n",
    "# when testing\n",
    "all_features = lambda: feature \n",
    "all_labels = lambda: y"
   ]
  },
  {
   "cell_type": "code",
   "execution_count": 18,
   "metadata": {},
   "outputs": [],
   "source": [
    "# features/labels\n",
    "training_features = tf.cond(is_training, source_features, all_features) \n",
    "true_labels = tf.cond(is_training, source_labels, all_labels)"
   ]
  },
  {
   "cell_type": "code",
   "execution_count": 19,
   "metadata": {},
   "outputs": [],
   "source": [
    "def fc_layer(inputs,\n",
    "             name,\n",
    "            in_channel,\n",
    "            out_channel, act_output = True): \n",
    "    \n",
    "    with tf.variable_scope(name) as name:\n",
    "        fcWeights = tf.get_variable(\n",
    "                \"W\",\n",
    "                shape= [in_channel, out_channel], \n",
    "                initializer=tf.initializers.truncated_normal(stddev=0.1)\n",
    "                )\n",
    "\n",
    "        fcBiases = tf.get_variable(\n",
    "                \"b\",\n",
    "                shape=[out_channel],\n",
    "                initializer=tf.constant_initializer(0.1)\n",
    "                )\n",
    "        \n",
    "        logit = tf.nn.bias_add(tf.matmul(inputs, fcWeights), fcBiases)\n",
    "\n",
    "        if act_output==True:\n",
    "            return tf.nn.relu(logit)\n",
    "\n",
    "    return logit  "
   ]
  },
  {
   "cell_type": "code",
   "execution_count": 60,
   "metadata": {},
   "outputs": [
    {
     "data": {
      "text/plain": [
       "2352"
      ]
     },
     "execution_count": 60,
     "metadata": {},
     "output_type": "execute_result"
    }
   ],
   "source": [
    "feature.shape.as_list()[-1]"
   ]
  },
  {
   "cell_type": "code",
   "execution_count": 20,
   "metadata": {},
   "outputs": [],
   "source": [
    "with tf.variable_scope('label_predictor') as scope:\n",
    "    label_fc1_output= fc_layer(training_features, name =\"fc1\", in_channel= feature.shape.as_list()[-1], out_channel=100, act_output=True)\n",
    "    label_fc2_output= fc_layer(label_fc1_output, name =\"fc2\", in_channel= 100, out_channel=100, act_output=True)\n",
    "    label_fc3_output= fc_layer(label_fc2_output, name =\"fc3\", in_channel= 100, out_channel=10, act_output=False)"
   ]
  },
  {
   "cell_type": "code",
   "execution_count": 21,
   "metadata": {},
   "outputs": [
    {
     "data": {
      "text/plain": [
       "<tf.Tensor 'label_predictor/fc3/BiasAdd:0' shape=(?, 10) dtype=float32>"
      ]
     },
     "execution_count": 21,
     "metadata": {},
     "output_type": "execute_result"
    }
   ],
   "source": [
    "label_fc3_output"
   ]
  },
  {
   "cell_type": "code",
   "execution_count": 22,
   "metadata": {},
   "outputs": [
    {
     "data": {
      "text/plain": [
       "<tf.Tensor 'Softmax:0' shape=(?, 10) dtype=float32>"
      ]
     },
     "execution_count": 22,
     "metadata": {},
     "output_type": "execute_result"
    }
   ],
   "source": [
    "label_pred = tf.nn.softmax(label_fc3_output, axis = -1)\n",
    "label_pred"
   ]
  },
  {
   "cell_type": "code",
   "execution_count": 23,
   "metadata": {},
   "outputs": [
    {
     "data": {
      "text/plain": [
       "<tf.Tensor 'softmax_cross_entropy_with_logits/Reshape_2:0' shape=(?,) dtype=float32>"
      ]
     },
     "execution_count": 23,
     "metadata": {},
     "output_type": "execute_result"
    }
   ],
   "source": [
    "# logit: label_fc3_output\n",
    "pred_loss = tf.nn.softmax_cross_entropy_with_logits_v2(logits=label_fc3_output, labels=true_labels)\n",
    "pred_loss"
   ]
  },
  {
   "cell_type": "markdown",
   "metadata": {},
   "source": [
    "---\n",
    "\n",
    "# domainPredictor"
   ]
  },
  {
   "cell_type": "markdown",
   "metadata": {},
   "source": [
    "- Gradient reverse layer를 구하는 방법을 살펴보자\n",
    "    - Forward propagation: identity에 의해서 같은 값이 나옴\n",
    "    - backward propagation: negative gradient(-lambda * gradient)이 계산됨"
   ]
  },
  {
   "cell_type": "code",
   "execution_count": 24,
   "metadata": {},
   "outputs": [],
   "source": [
    "class FlipGradientBuilder(object):\n",
    "    def __init__(self):\n",
    "        self.num_calls = 0\n",
    "\n",
    "    def __call__(self, x, lb=1.0):\n",
    "        \n",
    "        grad_name = \"FlipGradient%d\" % self.num_calls\n",
    "        \n",
    "        @ops.RegisterGradient(grad_name)\n",
    "        def _flip_gradients(op, grad):\n",
    "            return [tf.negative(grad) * lb]\n",
    "        \n",
    "        g = tf.get_default_graph()\n",
    "        with g.gradient_override_map({\"Identity\": grad_name}):\n",
    "            y = tf.identity(x) # copy for assign op\n",
    "            \n",
    "        self.num_calls += 1\n",
    "        return y"
   ]
  },
  {
   "cell_type": "markdown",
   "metadata": {},
   "source": [
    "---"
   ]
  },
  {
   "cell_type": "markdown",
   "metadata": {},
   "source": [
    "- 위의 flip gradient를 적용하면 아래와 같다.\n",
    "    - 논문에 제시된 $\\lambda$를 learning rate와 같게 하였다."
   ]
  },
  {
   "cell_type": "code",
   "execution_count": 25,
   "metadata": {},
   "outputs": [],
   "source": [
    "flip_gradient = FlipGradientBuilder()"
   ]
  },
  {
   "cell_type": "code",
   "execution_count": 26,
   "metadata": {},
   "outputs": [],
   "source": [
    "with tf.variable_scope('domain_predictor'):\n",
    "\n",
    "    # Flip the gradient when backpropagating through this operation\n",
    "    grad_reversed_feature = flip_gradient(feature, lb)\n",
    "    domain_fc1_output= fc_layer(grad_reversed_feature, name =\"fc1\", in_channel= feature.shape.as_list()[-1], out_channel=100, act_output=True)\n",
    "    domain_fc2_output= fc_layer(domain_fc1_output, name =\"fc2\", in_channel= 100, out_channel=2, act_output=False)\n",
    "    "
   ]
  },
  {
   "cell_type": "code",
   "execution_count": 27,
   "metadata": {},
   "outputs": [],
   "source": [
    "domain_pred = tf.nn.softmax(domain_fc2_output)"
   ]
  },
  {
   "cell_type": "code",
   "execution_count": 28,
   "metadata": {},
   "outputs": [
    {
     "data": {
      "text/plain": [
       "<tf.Tensor 'softmax_cross_entropy_with_logits_1/Reshape_2:0' shape=(?,) dtype=float32>"
      ]
     },
     "execution_count": 28,
     "metadata": {},
     "output_type": "execute_result"
    }
   ],
   "source": [
    "domain_loss = tf.nn.softmax_cross_entropy_with_logits_v2(logits=domain_fc2_output, labels=domainID)\n",
    "domain_loss"
   ]
  },
  {
   "cell_type": "markdown",
   "metadata": {},
   "source": [
    "---"
   ]
  },
  {
   "cell_type": "markdown",
   "metadata": {},
   "source": [
    "# loss"
   ]
  },
  {
   "cell_type": "code",
   "execution_count": 29,
   "metadata": {},
   "outputs": [],
   "source": [
    "# loss\n",
    "predLoss = tf.reduce_mean(pred_loss)\n",
    "domainLoss = tf.reduce_mean(domain_loss)\n",
    "totalLoss = predLoss + domainLoss\n",
    "\n",
    "# train op\n",
    "# label_train_op = tf.train.AdamOptimizer(0.9).minimize(predLoss)\n",
    "DA_train_op = tf.train.MomentumOptimizer(lr,0.9).minimize(totalLoss)\n",
    "\n",
    "# Accuacy\n",
    "correct_label_pred = tf.equal(tf.argmax(true_labels, 1), tf.argmax(label_pred, 1)) #boolean\n",
    "label_acc = tf.reduce_mean(tf.cast(correct_label_pred, tf.float32)) #scalar\n",
    "correct_domain_pred = tf.equal(tf.argmax(domainID, 1), tf.argmax(domain_pred, 1))\n",
    "domain_acc = tf.reduce_mean(tf.cast(correct_domain_pred, tf.float32))"
   ]
  },
  {
   "cell_type": "markdown",
   "metadata": {},
   "source": [
    "---\n",
    "\n",
    "# Session on"
   ]
  },
  {
   "cell_type": "code",
   "execution_count": 30,
   "metadata": {},
   "outputs": [],
   "source": [
    "sess=tf.Session()\n",
    "sess.run(tf.global_variables_initializer())"
   ]
  },
  {
   "cell_type": "code",
   "execution_count": 31,
   "metadata": {},
   "outputs": [],
   "source": [
    "def shuffle_aligned_list(pairs):\n",
    "    \"\"\"Shuffle arrays in a list by shuffling each array identically.\"\"\"\n",
    "    num = pairs[0].shape[0]\n",
    "    pm_idx = np.random.permutation(num)\n",
    "    return [pair[pm_idx] for pair in pairs]\n",
    "\n",
    "\n",
    "def batch_generator(pairs, batch_size, shuffle=True):\n",
    "    \"\"\"Generate batches of data.\n",
    "    \n",
    "    Given a list of array-like objects, generate batches of a given\n",
    "    size by yielding a list of array-like objects corresponding to the\n",
    "    same slice of each input.\n",
    "    \"\"\"\n",
    "    if shuffle:\n",
    "        pairs = shuffle_aligned_list(pairs)\n",
    "\n",
    "    batch_num = 0\n",
    "    while True:\n",
    "        if batch_num * batch_size + batch_size >= len(pairs[0]):\n",
    "            batch_num = 0\n",
    "\n",
    "            if shuffle:\n",
    "                pairs = shuffle_aligned_list(pairs)\n",
    "\n",
    "        start = batch_num * batch_size\n",
    "        end = start + batch_size\n",
    "        batch_num += 1\n",
    "        yield [pair[start:end] for pair in pairs]\n"
   ]
  },
  {
   "cell_type": "markdown",
   "metadata": {},
   "source": [
    "- an half of source/target domain examples\n",
    "- source/target domain examples을 반씩 잘라 붙여야 사전에 설정해 놓은 batch size랑 일치한다.\n",
    "    - [(32, 28, 28, 3), (32, 10)]"
   ]
  },
  {
   "cell_type": "code",
   "execution_count": 32,
   "metadata": {},
   "outputs": [],
   "source": [
    "gen_source_batch = batch_generator(pairs=[mnist_train, mnist.train.labels], batch_size= batch_size // 2)\n",
    "gen_target_batch = batch_generator(pairs=[mnistm_train, mnist.train.labels], batch_size= batch_size // 2)"
   ]
  },
  {
   "cell_type": "markdown",
   "metadata": {},
   "source": [
    "- All of source/target domain examples\n",
    "    - [(64, 28, 28, 3), (64, 10)]"
   ]
  },
  {
   "cell_type": "code",
   "execution_count": 33,
   "metadata": {},
   "outputs": [],
   "source": [
    "gen_source_only_batch = batch_generator(pairs=[mnist_train, mnist.train.labels],batch_size= batch_size)\n",
    "gen_target_only_batch = batch_generator(pairs=[mnistm_train, mnist.train.labels], batch_size=batch_size)"
   ]
  },
  {
   "cell_type": "markdown",
   "metadata": {},
   "source": [
    "- domain labels if source or target"
   ]
  },
  {
   "cell_type": "code",
   "execution_count": 34,
   "metadata": {},
   "outputs": [],
   "source": [
    "domain_labels = np.vstack([np.tile([1., 0.], [batch_size // 2, 1]),\n",
    "                           np.tile([0., 1.], [batch_size // 2, 1])])"
   ]
  },
  {
   "cell_type": "code",
   "execution_count": 35,
   "metadata": {},
   "outputs": [
    {
     "name": "stdout",
     "output_type": "stream",
     "text": [
      "loss: 4.825463771820068  d_acc: 0.5  p_acc: 0.0625  p: 0.0  lb: 0.0  lr: 0.01\n",
      "loss: 0.40940043330192566  d_acc: 0.90625  p_acc: 0.9375  p: 0.011627906976744186  lb: 0.05807411547586794  lr: 0.009208108196143174\n",
      "loss: 0.5818338394165039  d_acc: 0.890625  p_acc: 0.875  p: 0.023255813953488372  lb: 0.11575782577418603  lr: 0.008548589038554535\n",
      "loss: 0.5852369666099548  d_acc: 0.796875  p_acc: 0.9375  p: 0.03488372093023256  lb: 0.1726711536624863  lr: 0.007989697680708598\n",
      "loss: 0.5564760565757751  d_acc: 0.90625  p_acc: 0.9375  p: 0.046511627906976744  lb: 0.22845439143629886  lr: 0.0075092390442056635\n",
      "loss: 0.35558179020881653  d_acc: 0.875  p_acc: 0.96875  p: 0.05813953488372093  lb: 0.28277682569099527  lr: 0.0070911987391239035\n",
      "loss: 0.2507930397987366  d_acc: 0.9375  p_acc: 1.0  p: 0.06976744186046512  lb: 0.33534391863054624  lr: 0.006723713451795381\n",
      "loss: 0.25439000129699707  d_acc: 0.953125  p_acc: 0.96875  p: 0.08139534883720931  lb: 0.3859026564904293  lr: 0.006397796023621206\n",
      "loss: 0.5283358097076416  d_acc: 0.859375  p_acc: 0.9375  p: 0.09302325581395349  lb: 0.43424492823161986  lr: 0.006106505778508959\n",
      "loss: 0.4712458550930023  d_acc: 0.859375  p_acc: 0.90625  p: 0.10465116279069768  lb: 0.4802089471455322  lr: 0.00584439199954653\n",
      "loss: 0.4825291633605957  d_acc: 0.890625  p_acc: 0.96875  p: 0.11627906976744186  lb: 0.5236788585597902  lr: 0.0056071106987353935\n",
      "loss: 0.19707489013671875  d_acc: 0.90625  p_acc: 1.0  p: 0.12790697674418605  lb: 0.5645827773148586  lr: 0.005391154585323163\n",
      "loss: 0.4898703396320343  d_acc: 0.78125  p_acc: 1.0  p: 0.13953488372093023  lb: 0.6028895635619975  lr: 0.005193658897076379\n",
      "loss: 0.3004189431667328  d_acc: 0.9375  p_acc: 1.0  p: 0.1511627906976744  lb: 0.6386046745549958  lr: 0.005012259239308981\n",
      "loss: 0.4147544503211975  d_acc: 0.859375  p_acc: 0.96875  p: 0.16279069767441862  lb: 0.6717654275930591  lr: 0.004844985806046933\n",
      "loss: 0.2904179096221924  d_acc: 0.875  p_acc: 0.96875  p: 0.1744186046511628  lb: 0.7024359819836457  lr: 0.004690183518397721\n",
      "loss: 0.6488478183746338  d_acc: 0.84375  p_acc: 0.90625  p: 0.18604651162790697  lb: 0.730702303851418  lr: 0.0045464509301225125\n",
      "loss: 0.2889407277107239  d_acc: 0.90625  p_acc: 0.96875  p: 0.19767441860465115  lb: 0.75666732465968  lr: 0.004412592926309448\n",
      "loss: 0.34746885299682617  d_acc: 0.9375  p_acc: 0.90625  p: 0.20930232558139536  lb: 0.7804464491564882  lr: 0.004287583697558238\n",
      "loss: 0.40334779024124146  d_acc: 0.84375  p_acc: 1.0  p: 0.22093023255813954  lb: 0.8021635162227865  lr: 0.004170537464590465\n",
      "loss: 0.5859626531600952  d_acc: 0.953125  p_acc: 0.90625  p: 0.23255813953488372  lb: 0.8219472701703336  lr: 0.00406068511562926\n",
      "loss: 0.5954075455665588  d_acc: 0.796875  p_acc: 0.9375  p: 0.2441860465116279  lb: 0.8399283622203215  lr: 0.003957355402193208\n",
      "loss: 0.5475267171859741  d_acc: 0.8125  p_acc: 0.9375  p: 0.2558139534883721  lb: 0.8562368727213061  lr: 0.003859959683449113\n",
      "loss: 0.8015364408493042  d_acc: 0.65625  p_acc: 0.9375  p: 0.26744186046511625  lb: 0.8710003237511923  lr: 0.0037679794579745665\n",
      "loss: 0.9847149848937988  d_acc: 0.671875  p_acc: 0.9375  p: 0.27906976744186046  lb: 0.8843421381310939  lr: 0.0036809561034616242\n",
      "loss: 0.5318312048912048  d_acc: 0.828125  p_acc: 0.90625  p: 0.29069767441860467  lb: 0.8963804933094455  lr: 0.0035984823790740587\n",
      "loss: 1.4411591291427612  d_acc: 0.75  p_acc: 0.8125  p: 0.3023255813953488  lb: 0.907227515730854  lr: 0.0035201953452889123\n",
      "loss: 1.3302115201950073  d_acc: 0.53125  p_acc: 0.875  p: 0.313953488372093  lb: 0.9169887619362538  lr: 0.0034457704314723612\n",
      "loss: 0.5538606643676758  d_acc: 0.71875  p_acc: 1.0  p: 0.32558139534883723  lb: 0.9257629356552557  lr: 0.003374916438763681\n",
      "loss: 0.8089284896850586  d_acc: 0.53125  p_acc: 0.9375  p: 0.3372093023255814  lb: 0.9336417946475963  lr: 0.003307371309778185\n",
      "loss: 0.6464406847953796  d_acc: 0.65625  p_acc: 0.96875  p: 0.3488372093023256  lb: 0.9407102063254855  lr: 0.0032428985305833465\n",
      "loss: 0.892132043838501  d_acc: 0.796875  p_acc: 0.875  p: 0.36046511627906974  lb: 0.9470463167220862  lr: 0.003181284056820732\n",
      "loss: 0.5464159250259399  d_acc: 0.796875  p_acc: 0.96875  p: 0.37209302325581395  lb: 0.9527218027997246  lr: 0.0031223336765527007\n",
      "loss: 0.8238319158554077  d_acc: 0.796875  p_acc: 0.96875  p: 0.38372093023255816  lb: 0.9578021831783621  lr: 0.003065870738750244\n",
      "loss: 0.22796763479709625  d_acc: 0.890625  p_acc: 1.0  p: 0.3953488372093023  lb: 0.962347166972511  lr: 0.0030117341893097\n",
      "loss: 0.7139698266983032  d_acc: 0.765625  p_acc: 0.96875  p: 0.4069767441860465  lb: 0.9664110244879942  lr: 0.002959776866846464\n",
      "loss: 0.32875534892082214  d_acc: 0.84375  p_acc: 1.0  p: 0.4186046511627907  lb: 0.9700429670347053  lr: 0.002909864018835692\n",
      "loss: 0.5904496908187866  d_acc: 0.875  p_acc: 0.90625  p: 0.43023255813953487  lb: 0.9732875260777021  lr: 0.002861872005390412\n",
      "loss: 0.4229314923286438  d_acc: 0.875  p_acc: 1.0  p: 0.4418604651162791  lb: 0.9761849244171494  lr: 0.0028156871634225067\n",
      "loss: 0.3996061086654663  d_acc: 0.796875  p_acc: 1.0  p: 0.45348837209302323  lb: 0.9787714341094471  lr: 0.0027712048083815533\n",
      "loss: 0.4992428421974182  d_acc: 0.828125  p_acc: 0.96875  p: 0.46511627906976744  lb: 0.9810797174732149  lr: 0.002728328354412792\n",
      "loss: 0.5148041248321533  d_acc: 0.828125  p_acc: 0.9375  p: 0.47674418604651164  lb: 0.9831391488202712  lr: 0.002686968536776859\n",
      "loss: 0.5221948027610779  d_acc: 0.765625  p_acc: 0.96875  p: 0.4883720930232558  lb: 0.9849761155658179  lr: 0.0026470427228549257\n",
      "loss: 0.6307872533798218  d_acc: 0.78125  p_acc: 0.90625  p: 0.5  lb: 0.9866142981514305  lr: 0.0026084743001221454\n",
      "loss: 0.6382717490196228  d_acc: 0.828125  p_acc: 0.90625  p: 0.5116279069767442  lb: 0.9880749288014745  lr: 0.002571192131188139\n",
      "loss: 0.4289991557598114  d_acc: 0.90625  p_acc: 0.96875  p: 0.5232558139534884  lb: 0.9893770295647741  lr: 0.002535130067438327\n",
      "loss: 0.40435507893562317  d_acc: 0.890625  p_acc: 0.96875  p: 0.5348837209302325  lb: 0.9905376303999733  lr: 0.002500226514014457\n",
      "loss: 0.6215903759002686  d_acc: 0.78125  p_acc: 0.96875  p: 0.5465116279069767  lb: 0.9915719682712341  lr: 0.0024664240398871913\n",
      "loss: 0.5021497011184692  d_acc: 0.796875  p_acc: 1.0  p: 0.5581395348837209  lb: 0.9924936683523062  lr: 0.0024336690276309993\n",
      "loss: 0.5572361946105957  d_acc: 0.75  p_acc: 0.96875  p: 0.5697674418604651  lb: 0.9933149085094493  lr: 0.0024019113582383557\n",
      "loss: 0.5989366769790649  d_acc: 0.65625  p_acc: 1.0  p: 0.5813953488372093  lb: 0.9940465682614799  lr: 0.0023711041269283283\n",
      "loss: 1.0323117971420288  d_acc: 0.6875  p_acc: 0.8125  p: 0.5930232558139535  lb: 0.9946983634099507  lr: 0.00234120338643174\n",
      "loss: 0.9565933346748352  d_acc: 0.796875  p_acc: 0.90625  p: 0.6046511627906976  lb: 0.9952789675032998  lr: 0.002312167914685915\n",
      "loss: 0.4626711308956146  d_acc: 0.796875  p_acc: 0.96875  p: 0.6162790697674418  lb: 0.9957961212529436  lr: 0.0022839590042587057\n",
      "loss: 0.4873444736003876  d_acc: 0.8125  p_acc: 1.0  p: 0.627906976744186  lb: 0.9962567309623462  lr: 0.0022565402711539955\n",
      "loss: 0.8458352088928223  d_acc: 0.75  p_acc: 0.90625  p: 0.6395348837209303  lb: 0.996666956966364  lr: 0.0022298774809375384\n",
      "loss: 0.7572154402732849  d_acc: 0.796875  p_acc: 0.90625  p: 0.6511627906976745  lb: 0.9970322930109379  lr: 0.0022039383903697716\n",
      "loss: 0.45236918330192566  d_acc: 0.859375  p_acc: 0.96875  p: 0.6627906976744186  lb: 0.9973576374349025  lr: 0.0021786926029468733\n",
      "loss: 0.35806888341903687  d_acc: 0.890625  p_acc: 0.96875  p: 0.6744186046511628  lb: 0.9976473569480822  lr: 0.0021541114369377466\n",
      "loss: 0.435672402381897  d_acc: 0.84375  p_acc: 0.96875  p: 0.686046511627907  lb: 0.9979053437342209  lr: 0.002130167804666827\n",
      "loss: 0.5702878832817078  d_acc: 0.71875  p_acc: 1.0  p: 0.6976744186046512  lb: 0.9981350665445223  lr: 0.0021068361019340996\n",
      "loss: 0.7712510228157043  d_acc: 0.65625  p_acc: 0.96875  p: 0.7093023255813954  lb: 0.998339616388191  lr: 0.002084092106587389\n",
      "loss: 0.45937344431877136  d_acc: 0.859375  p_acc: 0.96875  p: 0.7209302325581395  lb: 0.9985217473707251  lr: 0.002061912885370307\n",
      "loss: 0.8559670448303223  d_acc: 0.640625  p_acc: 0.96875  p: 0.7325581395348837  lb: 0.9986839131789393  lr: 0.0020402767082642755\n",
      "loss: 0.7581861019134521  d_acc: 0.71875  p_acc: 0.9375  p: 0.7441860465116279  lb: 0.9988282996638527  lr: 0.0020191629696266573\n",
      "loss: 0.8087642192840576  d_acc: 0.71875  p_acc: 0.9375  p: 0.7558139534883721  lb: 0.9989568539285347  lr: 0.001998552115500608\n",
      "loss: 0.7783613204956055  d_acc: 0.578125  p_acc: 0.96875  p: 0.7674418604651163  lb: 0.9990713102877162  lr: 0.0019784255765372813\n",
      "loss: 0.5618288516998291  d_acc: 0.59375  p_acc: 1.0  p: 0.7790697674418605  lb: 0.9991732134291553  lr: 0.0019587657060284253\n",
      "loss: 0.5146697163581848  d_acc: 0.640625  p_acc: 1.0  p: 0.7906976744186046  lb: 0.9992639390733074  lr: 0.0019395557225983058\n",
      "loss: 0.6340583562850952  d_acc: 0.625  p_acc: 1.0  p: 0.8023255813953488  lb: 0.9993447123974792  lr: 0.0019207796571489855\n",
      "loss: 0.7205818891525269  d_acc: 0.640625  p_acc: 0.9375  p: 0.813953488372093  lb: 0.999416624463169  lr: 0.0019024223036931153\n",
      "loss: 0.634271502494812  d_acc: 0.625  p_acc: 0.96875  p: 0.8255813953488372  lb: 0.9994806468604833  lr: 0.0018844691737440408\n",
      "loss: 0.6444191336631775  d_acc: 0.578125  p_acc: 0.96875  p: 0.8372093023255814  lb: 0.9995376447611286  lr: 0.0018669064539648453\n",
      "loss: 0.7390989065170288  d_acc: 0.59375  p_acc: 0.96875  p: 0.8488372093023255  lb: 0.9995883885513366  lr: 0.0018497209668063268\n",
      "loss: 0.5952032804489136  d_acc: 0.6875  p_acc: 1.0  p: 0.8604651162790697  lb: 0.9996335641979495  lr: 0.0018329001338892768\n",
      "loss: 0.5313435792922974  d_acc: 0.75  p_acc: 1.0  p: 0.872093023255814  lb: 0.9996737824846389  lr: 0.0018164319419091504\n",
      "loss: 0.9486538767814636  d_acc: 0.75  p_acc: 0.875  p: 0.8837209302325582  lb: 0.9997095872406112  lr: 0.001800304910861562\n",
      "loss: 0.5704761147499084  d_acc: 0.640625  p_acc: 1.0  p: 0.8953488372093024  lb: 0.9997414626710781  lr: 0.0017845080644053356\n",
      "loss: 0.7692083120346069  d_acc: 0.640625  p_acc: 0.96875  p: 0.9069767441860465  lb: 0.9997698398870507  lr: 0.0017690309021962457\n",
      "loss: 0.6062610745429993  d_acc: 0.71875  p_acc: 0.96875  p: 0.9186046511627907  lb: 0.9997951027215122  lr: 0.0017538633740393809\n",
      "loss: 0.6653850078582764  d_acc: 0.609375  p_acc: 1.0  p: 0.9302325581395349  lb: 0.9998175929096487  lr: 0.0017389958557213823\n",
      "loss: 0.6266434788703918  d_acc: 0.640625  p_acc: 1.0  p: 0.9418604651162791  lb: 0.9998376147024313  lr: 0.0017244191263958181\n",
      "loss: 0.5251486897468567  d_acc: 0.75  p_acc: 1.0  p: 0.9534883720930233  lb: 0.9998554389753282  lr: 0.0017101243474058232\n",
      "loss: 0.6981379985809326  d_acc: 0.59375  p_acc: 0.96875  p: 0.9651162790697675  lb: 0.9998713068872478  lr: 0.0016961030424379434\n",
      "loss: 0.718218207359314  d_acc: 0.640625  p_acc: 0.96875  p: 0.9767441860465116  lb: 0.999885433138822  lr: 0.001682347078910014\n",
      "loss: 0.7044693827629089  d_acc: 0.6875  p_acc: 0.90625  p: 0.9883720930232558  lb: 0.9998980088738034  lr: 0.0016688486505039575\n"
     ]
    }
   ],
   "source": [
    "# Training model\n",
    "num_steps = 8600\n",
    "\n",
    "for i in range(num_steps):\n",
    "\n",
    "    # Adaptation param and learning rate schedule as described in the paper\n",
    "    p = float(i) / num_steps # smaller over time\n",
    "    _lb = 2. / (1. + np.exp(-10. * p)) - 1 # smaller over time\n",
    "    _lr = 0.01 / (1. + 10 * p)**0.75 \n",
    "\n",
    "    # Training step\n",
    "\n",
    "    XS, yS = next(gen_source_batch)\n",
    "    XT, yT = next(gen_target_batch)\n",
    "\n",
    "    X_feed = np.vstack([XS, XT])\n",
    "    y_feed = np.vstack([yS, yT])\n",
    "\n",
    "    _, batch_loss, dloss, ploss, d_acc, p_acc = sess.run(\n",
    "        [DA_train_op, totalLoss, domainLoss, predLoss, domain_acc, label_acc],\n",
    "        feed_dict = {X: X_feed,\n",
    "           y: y_feed,\n",
    "           domainID: domain_labels,\n",
    "           is_training: True,\n",
    "           lb: _lb,\n",
    "           lr: _lr})\n",
    "    \n",
    "    if i % 100 == 0:\n",
    "        print('loss: {}  d_acc: {}  p_acc: {}  p: {}  lb: {}  lr: {}'.format(\n",
    "                batch_loss, d_acc, p_acc, p, _lb, _lr))"
   ]
  },
  {
   "cell_type": "markdown",
   "metadata": {},
   "source": [
    "# Evaluation"
   ]
  },
  {
   "cell_type": "markdown",
   "metadata": {},
   "source": [
    "- 학습을 할때는 source/target데이터가 모두 필요하다.\n",
    "- 평가할때 source 데이터 성능을 볼땐 source만, target 데이터 성능을 볼땐 target만 사용할 수 있다.\n",
    "- 어떤 domain인지를 평가할때는 당연히 두개의 source/target 데이터가 필요하다."
   ]
  },
  {
   "cell_type": "code",
   "execution_count": 36,
   "metadata": {},
   "outputs": [],
   "source": [
    "# Compute final evaluation on test data\n",
    "source_acc = sess.run(label_acc,\n",
    "                    feed_dict={X: mnist_test, y: mnist.test.labels,\n",
    "                               is_training: False})\n",
    "\n",
    "target_acc = sess.run(label_acc,\n",
    "                    feed_dict={X: mnistm_test, y: mnist.test.labels,\n",
    "                               is_training: False})\n",
    "\n",
    "\n",
    "test_domain_acc = sess.run(domain_acc,\n",
    "                    feed_dict={X: combined_test_imgs,\n",
    "                               domainID: combined_test_domain, lb: 1.0})"
   ]
  },
  {
   "cell_type": "code",
   "execution_count": 37,
   "metadata": {},
   "outputs": [
    {
     "data": {
      "text/plain": [
       "(1000, 2352)"
      ]
     },
     "execution_count": 37,
     "metadata": {},
     "output_type": "execute_result"
    }
   ],
   "source": [
    "test_emb = sess.run(feature, feed_dict={X: combined_test_imgs})\n",
    "test_emb.shape"
   ]
  },
  {
   "cell_type": "code",
   "execution_count": 38,
   "metadata": {},
   "outputs": [
    {
     "name": "stdout",
     "output_type": "stream",
     "text": [
      "\n",
      "Domain adaptation training\n",
      "Source (MNIST) accuracy: 0.9807\n",
      "Target (MNIST-M) accuracy: 0.7198\n",
      "Domain accuracy: 0.669\n"
     ]
    }
   ],
   "source": [
    "print('\\nDomain adaptation training')\n",
    "print('Source (MNIST) accuracy:', source_acc)\n",
    "print('Target (MNIST-M) accuracy:', target_acc)\n",
    "print('Domain accuracy:', test_domain_acc)"
   ]
  },
  {
   "cell_type": "markdown",
   "metadata": {},
   "source": [
    "- 시각화를 위해 따로 임베딩 vector, domain, label를 뽑아 둠"
   ]
  },
  {
   "cell_type": "code",
   "execution_count": 55,
   "metadata": {},
   "outputs": [],
   "source": [
    "if not os.path.exists('./results'):\n",
    "    os.mkdir('./results') \n",
    "# images(source: 500, target: 500)\n",
    "np.save('./results/SourceTargetImages.npy',combined_test_imgs)\n",
    "\n",
    "# 2352차원을 가진 1000 vector(source: 500, target: 500)\n",
    "np.save('./results/SourceTargetEmbed.npy', test_emb)\n",
    "\n",
    "# source or target\n",
    "np.save('./results/SourceTargetDomain.npy', combined_test_domain)\n",
    "\n",
    "# mnist label\n",
    "np.save('./results/SourceTargetLabels.npy', combined_test_labels)"
   ]
  }
 ],
 "metadata": {
  "kernelspec": {
   "display_name": "Python 3",
   "language": "python",
   "name": "python3"
  },
  "language_info": {
   "codemirror_mode": {
    "name": "ipython",
    "version": 3
   },
   "file_extension": ".py",
   "mimetype": "text/x-python",
   "name": "python",
   "nbconvert_exporter": "python",
   "pygments_lexer": "ipython3",
   "version": "3.6.2"
  }
 },
 "nbformat": 4,
 "nbformat_minor": 2
}
